{
 "cells": [
  {
   "cell_type": "code",
   "execution_count": 156,
   "metadata": {},
   "outputs": [],
   "source": [
    "# imports\n",
    "import warnings\n",
    "warnings.filterwarnings('ignore')\n",
    "from bs4 import BeautifulSoup\n",
    "import pandas as pd\n",
    "from scipy import stats\n",
    "import numpy as np\n",
    "import spacy\n",
    "import seaborn as sns\n",
    "import matplotlib.pyplot as plt\n",
    "import requests\n",
    "from urllib.request import urlopen\n",
    "import json\n",
    "import dill"
   ]
  },
  {
   "cell_type": "code",
   "execution_count": null,
   "metadata": {},
   "outputs": [],
   "source": [
    "# pre-2019 data\n",
    "pre_2019=pd.read_csv('skater_stats.csv',encoding = \"ISO-8859-1\")"
   ]
  },
  {
   "cell_type": "code",
   "execution_count": null,
   "metadata": {},
   "outputs": [],
   "source": [
    "pre_2019.Tm.unique()"
   ]
  },
  {
   "cell_type": "code",
   "execution_count": null,
   "metadata": {},
   "outputs": [],
   "source": [
    "open_space_lst = ['Tm','G','Pos','A','PTS']"
   ]
  },
  {
   "cell_type": "code",
   "execution_count": null,
   "metadata": {},
   "outputs": [],
   "source": [
    "def fill_spaces(df,feature):\n",
    "    dummy_dict={}\n",
    "    for f in df[feature].unique():\n",
    "        dummy_dict[f]=f.replace(\" \",\"\")\n",
    "        dummy_dict[f]=f.replace(\"-\",\"\")\n",
    "    pre_2019[feature]=pre_2019[feature].map(lambda x: dummy_dict[x])\n",
    "    return df"
   ]
  },
  {
   "cell_type": "code",
   "execution_count": null,
   "metadata": {},
   "outputs": [],
   "source": [
    "for f in open_space_lst:    \n",
    "    pre_2019=fill_spaces(pre_2019,f)"
   ]
  },
  {
   "cell_type": "code",
   "execution_count": null,
   "metadata": {},
   "outputs": [],
   "source": [
    "num_lst=['+/-','PIM','EVG','PPG','SHG','GWG','EVA','PPA','SHA','S','S%','TOI']"
   ]
  },
  {
   "cell_type": "code",
   "execution_count": null,
   "metadata": {},
   "outputs": [],
   "source": [
    "str(pre_2019['PIM'][193]).split()[0]"
   ]
  },
  {
   "cell_type": "code",
   "execution_count": null,
   "metadata": {},
   "outputs": [],
   "source": [
    "for f in num_lst:\n",
    "     for i in range(len(pre_2019)):\n",
    "        pre_2019[f][i]=str(pre_2019[f][i]).split()[0]"
   ]
  },
  {
   "cell_type": "code",
   "execution_count": null,
   "metadata": {},
   "outputs": [],
   "source": [
    "pre_2019.PIM.unique()[0:20]"
   ]
  },
  {
   "cell_type": "code",
   "execution_count": null,
   "metadata": {},
   "outputs": [],
   "source": [
    "# url for scraping 2019 season\n",
    "url='https://www.hockey-reference.com/leagues/NHL_2019_skaters.html'"
   ]
  },
  {
   "cell_type": "code",
   "execution_count": null,
   "metadata": {},
   "outputs": [],
   "source": [
    "# assigning variable to requests getting this url\n",
    "r=requests.get(url)"
   ]
  },
  {
   "cell_type": "code",
   "execution_count": null,
   "metadata": {},
   "outputs": [],
   "source": [
    "# creating soup object\n",
    "soup = BeautifulSoup(r.content,'html.parser')"
   ]
  },
  {
   "cell_type": "code",
   "execution_count": null,
   "metadata": {},
   "outputs": [],
   "source": [
    "#soup.prettify"
   ]
  },
  {
   "cell_type": "code",
   "execution_count": null,
   "metadata": {},
   "outputs": [],
   "source": [
    "# gathering information on the players I need data from\n",
    "player_list=[]\n",
    "for player in soup.find_all('tbody'):\n",
    "    player_list.append(player.find_all('tr'))"
   ]
  },
  {
   "cell_type": "code",
   "execution_count": null,
   "metadata": {},
   "outputs": [],
   "source": [
    "#player_list"
   ]
  },
  {
   "cell_type": "code",
   "execution_count": null,
   "metadata": {},
   "outputs": [],
   "source": [
    "# when I pulled the data it came as a nested list so I need to step inside that list\n",
    "player_list=player_list[0]"
   ]
  },
  {
   "cell_type": "code",
   "execution_count": null,
   "metadata": {},
   "outputs": [],
   "source": [
    "# quick view at what one player looks like\n",
    "player_list[0]"
   ]
  },
  {
   "cell_type": "code",
   "execution_count": null,
   "metadata": {},
   "outputs": [],
   "source": [
    "# total amount of players - sort of - there are repeats that will be discussed further later on\n",
    "len(player_list)"
   ]
  },
  {
   "cell_type": "code",
   "execution_count": null,
   "metadata": {},
   "outputs": [],
   "source": [
    "# creating list of attributes for first player\n",
    "a=[]\n",
    "for stat in player_list[0].find_all('td'):\n",
    "    a.append(stat.text)"
   ]
  },
  {
   "cell_type": "code",
   "execution_count": null,
   "metadata": {},
   "outputs": [],
   "source": [
    "# creating list of attributes for every player\n",
    "b =[]\n",
    "for i in range(0,1121):\n",
    "    for stat in player_list[i].find_all('td'):\n",
    "        b.append(stat.text)"
   ]
  },
  {
   "cell_type": "code",
   "execution_count": null,
   "metadata": {},
   "outputs": [],
   "source": [
    "# quick look at beginning of b - what we see is that it captured a little too much and I will need to break this into pieces\n",
    "b[0:100]"
   ]
  },
  {
   "cell_type": "code",
   "execution_count": null,
   "metadata": {},
   "outputs": [],
   "source": [
    "# gauge of how long each player's stats are\n",
    "b[0:27]"
   ]
  },
  {
   "cell_type": "code",
   "execution_count": null,
   "metadata": {},
   "outputs": [],
   "source": [
    "# list comprehension to split up the list of everything into individual players\n",
    "chunks = [b[x:x+27] for x in range(0, len(b), 27)]"
   ]
  },
  {
   "cell_type": "code",
   "execution_count": null,
   "metadata": {},
   "outputs": [],
   "source": [
    "# what does the first player look like - notice how this is a list within a list at index 0\n",
    "chunks[0]"
   ]
  },
  {
   "cell_type": "code",
   "execution_count": null,
   "metadata": {},
   "outputs": [],
   "source": [
    "# what does every number correspond to?\n",
    "for stat in player_list[0].find_all(class_='right'):\n",
    "    print(stat['data-stat'],stat.text)"
   ]
  },
  {
   "cell_type": "code",
   "execution_count": null,
   "metadata": {},
   "outputs": [],
   "source": [
    "# instantiating data frame to hold data\n",
    "df=pd.DataFrame(columns=['name','age','team','pos','gp','goals','assists','points','plusmin','plm','ps','goals_ev','goals_pp','goals_sh',\n",
    "                        'goals_gw','assists_ev','assists_pp','assists_sh','shots','shot_pct','toi','toi_avg',\n",
    "                        'hits','faceoff_wins','faceoff_losses','faceoff_percent'],\n",
    "               index=range(0,1076))"
   ]
  },
  {
   "cell_type": "code",
   "execution_count": null,
   "metadata": {},
   "outputs": [],
   "source": [
    "# quick look at the empty data frame\n",
    "df"
   ]
  },
  {
   "cell_type": "code",
   "execution_count": null,
   "metadata": {},
   "outputs": [],
   "source": [
    "# features\n",
    "len(df.columns)"
   ]
  },
  {
   "cell_type": "code",
   "execution_count": null,
   "metadata": {},
   "outputs": [],
   "source": [
    "# number of players to populate this list\n",
    "len(chunks)"
   ]
  },
  {
   "cell_type": "code",
   "execution_count": null,
   "metadata": {},
   "outputs": [],
   "source": [
    "# adding name to data frame\n",
    "for i in range(len(chunks)):\n",
    "    df.name[i] = chunks[i][0]"
   ]
  },
  {
   "cell_type": "code",
   "execution_count": null,
   "metadata": {},
   "outputs": [],
   "source": [
    "# looking for any change in data frame shape\n",
    "df.shape"
   ]
  },
  {
   "cell_type": "code",
   "execution_count": null,
   "metadata": {},
   "outputs": [],
   "source": [
    "# double checking that adding the name worked\n",
    "df.head()"
   ]
  },
  {
   "cell_type": "code",
   "execution_count": null,
   "metadata": {},
   "outputs": [],
   "source": [
    "# this number corresponds to blocks which will be important later\n",
    "chunks[0][22]"
   ]
  },
  {
   "cell_type": "code",
   "execution_count": null,
   "metadata": {},
   "outputs": [],
   "source": [
    "# adding everything to the data frame\n",
    "for i in range(len(df)):\n",
    "    df.name[i] = chunks[i][0]\n",
    "    df.age[i]=chunks[i][1]\n",
    "    df.team[i]=chunks[i][2]\n",
    "    df.pos[i]=chunks[i][3]\n",
    "    df.gp[i]=chunks[i][4]\n",
    "    df.goals[i]=chunks[i][5]\n",
    "    df.assists[i]=chunks[i][6]\n",
    "    df.points[i]=chunks[i][7]\n",
    "    df.plusmin[i]=chunks[i][8]\n",
    "    df.plm[i]=chunks[i][9]\n",
    "    df.ps[i]=chunks[i][10]\n",
    "    df.goals_ev[i]=chunks[i][11]\n",
    "    df.goals_pp[i]=chunks[i][12]\n",
    "    df.goals_sh[i]=chunks[i][13]\n",
    "    df.goals_gw[i]=chunks[i][14]\n",
    "    df.assists_ev[i]=chunks[i][15]\n",
    "    df.assists_pp[i]=chunks[i][16]\n",
    "    df.assists_sh[i]=chunks[i][17]\n",
    "    df.shots[i]=chunks[i][18]\n",
    "    df.shot_pct[i]=chunks[i][19]\n",
    "    df.toi[i]=chunks[i][20]\n",
    "    df.toi_avg[i]=chunks[i][21]\n",
    "    df.hits[i]=chunks[i][23]\n",
    "    df.faceoff_wins[i]=chunks[i][24]\n",
    "    df.faceoff_losses[i]=chunks[i][25]\n",
    "    df.faceoff_percent[i]=chunks[i][26]"
   ]
  },
  {
   "cell_type": "code",
   "execution_count": null,
   "metadata": {},
   "outputs": [],
   "source": [
    "# quick look at data - notice I have repeating name values\n",
    "df.head()"
   ]
  },
  {
   "cell_type": "code",
   "execution_count": null,
   "metadata": {},
   "outputs": [],
   "source": [
    "# populating list of blocks by player\n",
    "block_list = []\n",
    "for i in range(len(chunks)):\n",
    "    block_list.append(int(chunks[i][22]))"
   ]
  },
  {
   "cell_type": "code",
   "execution_count": null,
   "metadata": {},
   "outputs": [],
   "source": [
    "# quick look at list of blocks by player\n",
    "block_list[0:5]"
   ]
  },
  {
   "cell_type": "code",
   "execution_count": null,
   "metadata": {},
   "outputs": [],
   "source": [
    "# length of list of blocks by player\n",
    "len(block_list)"
   ]
  },
  {
   "cell_type": "code",
   "execution_count": null,
   "metadata": {},
   "outputs": [],
   "source": [
    "# adding block statistic to data frame - for some reason this stat was very hard to add so I need to do it in a roundabout way\n",
    "df['block']=0\n",
    "for i in range(len(df)):\n",
    "    df.block[i]=block_list[i]"
   ]
  },
  {
   "cell_type": "code",
   "execution_count": null,
   "metadata": {},
   "outputs": [],
   "source": [
    "# overview of data\n",
    "df.head()"
   ]
  },
  {
   "cell_type": "code",
   "execution_count": null,
   "metadata": {},
   "outputs": [],
   "source": [
    "# tail of data\n",
    "df.tail()"
   ]
  },
  {
   "cell_type": "code",
   "execution_count": null,
   "metadata": {},
   "outputs": [],
   "source": [
    "# data info - notice I will need to change a lot of numbers to be integers or floats\n",
    "df.info()"
   ]
  },
  {
   "cell_type": "code",
   "execution_count": null,
   "metadata": {},
   "outputs": [],
   "source": [
    "# mapping age as an integer\n",
    "df.age=df.age.astype(int)"
   ]
  },
  {
   "cell_type": "code",
   "execution_count": null,
   "metadata": {},
   "outputs": [],
   "source": [
    "# mapping games played as an integer\n",
    "df.gp=df.gp.astype(int)"
   ]
  },
  {
   "cell_type": "code",
   "execution_count": null,
   "metadata": {},
   "outputs": [],
   "source": [
    "# mapping other features as integer or float - some gave me trouble and have been commented out\n",
    "df.goals=df.goals.astype(int)\n",
    "df.goals_ev=df.goals_ev.astype(int)\n",
    "df.goals_gw=df.goals_gw.astype(int)\n",
    "df.goals_pp=df.goals_pp.astype(int)\n",
    "df.goals_sh=df.goals_sh.astype(int)\n",
    "df.assists=df.assists.astype(int)\n",
    "df.assists_ev=df.assists_ev.astype(int)\n",
    "df.assists_pp=df.assists_pp.astype(int)\n",
    "df.assists_sh=df.assists_sh.astype(int)\n",
    "df.points=df.points.astype(int)\n",
    "df.plusmin=df.plusmin.astype(int)\n",
    "df.plm=df.plm.astype(int)\n",
    "df.ps=df.ps.astype(float)\n",
    "df.shots=df.shots.astype(float)\n",
    "#df.shot_pct=df.shot_pct.astype(float)\n",
    "#df.toi=df.toi.astype(float)\n",
    "#df.toi_avg=df.toi_avg.astype(float)\n",
    "df.hits=df.hits.astype(int)\n",
    "df.faceoff_wins=df.faceoff_wins.astype(int)\n",
    "df.faceoff_losses=df.faceoff_losses.astype(int)\n",
    "#df.faceoff_percent=df.faceoff_percent.astype(float)"
   ]
  },
  {
   "cell_type": "code",
   "execution_count": null,
   "metadata": {},
   "outputs": [],
   "source": [
    "# review of data\n",
    "df.head()"
   ]
  },
  {
   "cell_type": "code",
   "execution_count": null,
   "metadata": {},
   "outputs": [],
   "source": [
    "# remove faceoff percent\n",
    "df.drop('faceoff_percent',axis=1,inplace=True)"
   ]
  },
  {
   "cell_type": "code",
   "execution_count": null,
   "metadata": {},
   "outputs": [],
   "source": [
    "# add faceoff percent back as a float\n",
    "df['faceoff_pct']=round(df.faceoff_wins/(df.faceoff_losses+df.faceoff_wins),3)"
   ]
  },
  {
   "cell_type": "code",
   "execution_count": null,
   "metadata": {},
   "outputs": [],
   "source": [
    "# adding season column so I can later add more data\n",
    "df['season']=2019"
   ]
  },
  {
   "cell_type": "code",
   "execution_count": null,
   "metadata": {},
   "outputs": [],
   "source": [
    "# review of data\n",
    "df.head()"
   ]
  },
  {
   "cell_type": "code",
   "execution_count": null,
   "metadata": {},
   "outputs": [],
   "source": [
    "#df.shot_pct=df.shot_pct.astype(float)\n",
    "#df.toi=df.toi.astype(float)\n",
    "#df.toi_avg=df.toi_avg.astype(float)"
   ]
  },
  {
   "cell_type": "code",
   "execution_count": null,
   "metadata": {},
   "outputs": [],
   "source": [
    "# removing shot percent\n",
    "df.drop('shot_pct',axis=1,inplace=True)"
   ]
  },
  {
   "cell_type": "code",
   "execution_count": null,
   "metadata": {},
   "outputs": [],
   "source": [
    "# adding shot percent back as a float\n",
    "df['shot_pct']=df.goals/df.shots"
   ]
  },
  {
   "cell_type": "code",
   "execution_count": null,
   "metadata": {},
   "outputs": [],
   "source": [
    "# time on ice gave me trouble so I am going to have to break this down\n",
    "df.toi_avg"
   ]
  },
  {
   "cell_type": "code",
   "execution_count": null,
   "metadata": {},
   "outputs": [],
   "source": [
    "# first instance of toi\n",
    "df.toi_avg[0]"
   ]
  },
  {
   "cell_type": "code",
   "execution_count": null,
   "metadata": {},
   "outputs": [],
   "source": [
    "# length of toi \"type 1\"\n",
    "len(df.toi_avg[0])"
   ]
  },
  {
   "cell_type": "code",
   "execution_count": null,
   "metadata": {},
   "outputs": [],
   "source": [
    "# minutes component\n",
    "df.toi_avg[0].split()[0][0:2]"
   ]
  },
  {
   "cell_type": "code",
   "execution_count": null,
   "metadata": {},
   "outputs": [],
   "source": [
    "# seconds component\n",
    "df.toi_avg[0].split()[0][3:5]"
   ]
  },
  {
   "cell_type": "code",
   "execution_count": null,
   "metadata": {},
   "outputs": [],
   "source": [
    "# toi \"type 2\"\n",
    "\n",
    "df.toi_avg[1073]"
   ]
  },
  {
   "cell_type": "code",
   "execution_count": null,
   "metadata": {},
   "outputs": [],
   "source": [
    "# length of toi \"type 2\"\n",
    "len(df.toi_avg[1073])"
   ]
  },
  {
   "cell_type": "code",
   "execution_count": null,
   "metadata": {},
   "outputs": [],
   "source": [
    "# minutes\n",
    "df.toi_avg[1073].split()[0][0:1]"
   ]
  },
  {
   "cell_type": "code",
   "execution_count": null,
   "metadata": {},
   "outputs": [],
   "source": [
    "# seconds\n",
    "df.toi_avg[1073].split()[0][2:4]"
   ]
  },
  {
   "cell_type": "code",
   "execution_count": null,
   "metadata": {},
   "outputs": [],
   "source": [
    "# converting minutes and seconds to total seconds\n",
    "for i in range(len(df)):\n",
    "    if len(df.toi_avg[i]) == 5:\n",
    "        df.toi_avg[i] = int(df.toi_avg[i].split()[0][0:2])*60 +int(df.toi_avg[i].split()[0][3:5])\n",
    "    elif len(df.toi_avg[i]) == 4:\n",
    "        df.toi_avg[i] = int(df.toi_avg[i].split()[0][0:1])*60 +int(df.toi_avg[i].split()[0][2:4])"
   ]
  },
  {
   "cell_type": "code",
   "execution_count": null,
   "metadata": {},
   "outputs": [],
   "source": [
    "# review data having made some modifications\n",
    "df.head()"
   ]
  },
  {
   "cell_type": "code",
   "execution_count": null,
   "metadata": {},
   "outputs": [],
   "source": [
    "# data types for data\n",
    "df.info()"
   ]
  },
  {
   "cell_type": "code",
   "execution_count": null,
   "metadata": {},
   "outputs": [],
   "source": [
    "# toi as a float\n",
    "df.toi_avg=df.toi_avg.astype(int)"
   ]
  },
  {
   "cell_type": "code",
   "execution_count": null,
   "metadata": {},
   "outputs": [],
   "source": [
    "# review data\n",
    "df.head()"
   ]
  },
  {
   "cell_type": "code",
   "execution_count": null,
   "metadata": {},
   "outputs": [],
   "source": [
    "# data types for data\n",
    "df.info()"
   ]
  },
  {
   "cell_type": "code",
   "execution_count": null,
   "metadata": {},
   "outputs": [],
   "source": [
    "# how many unique players are there?\n",
    "df.groupby('name').sum().shape"
   ]
  },
  {
   "cell_type": "code",
   "execution_count": null,
   "metadata": {},
   "outputs": [],
   "source": [
    "# review data\n",
    "df.head()"
   ]
  },
  {
   "cell_type": "code",
   "execution_count": null,
   "metadata": {},
   "outputs": [],
   "source": [
    "# review data I will later merge\n",
    "pre_2019.head()"
   ]
  },
  {
   "cell_type": "code",
   "execution_count": null,
   "metadata": {},
   "outputs": [],
   "source": [
    "# checking names of columns in 2019 season\n",
    "df.columns"
   ]
  },
  {
   "cell_type": "code",
   "execution_count": null,
   "metadata": {},
   "outputs": [],
   "source": [
    "# checking names of columns in 2018 season\n",
    "pre_2019.columns"
   ]
  },
  {
   "cell_type": "code",
   "execution_count": null,
   "metadata": {},
   "outputs": [],
   "source": [
    "# adding stat missing from 2019 season\n",
    "df['gpg']=df.goals/df.gp"
   ]
  },
  {
   "cell_type": "code",
   "execution_count": null,
   "metadata": {},
   "outputs": [],
   "source": [
    "# removing pointless column\n",
    "pre_2019.drop('Unnamed: 0',axis=1,inplace=True)"
   ]
  },
  {
   "cell_type": "code",
   "execution_count": null,
   "metadata": {},
   "outputs": [],
   "source": [
    "# do the data frames align?\n",
    "len(df.columns)==len(pre_2019.columns)"
   ]
  },
  {
   "cell_type": "code",
   "execution_count": null,
   "metadata": {},
   "outputs": [],
   "source": [
    "# checking for difference\n",
    "pre_2019.columns"
   ]
  },
  {
   "cell_type": "code",
   "execution_count": null,
   "metadata": {},
   "outputs": [],
   "source": [
    "# checking for difference\n",
    "df.columns"
   ]
  },
  {
   "cell_type": "code",
   "execution_count": null,
   "metadata": {},
   "outputs": [],
   "source": [
    "# removing the extra column\n",
    "df.drop('ps',axis=1,inplace=True)"
   ]
  },
  {
   "cell_type": "code",
   "execution_count": null,
   "metadata": {},
   "outputs": [],
   "source": [
    "# reorganizing the order of pre-2019 data columns\n",
    "pre_2019_2 = pre_2019[['Player', 'Age', 'Tm', 'Pos', 'GP', 'G', 'A', 'PTS','+/-', 'PIM', 'EVG', 'PPG', 'SHG', \n",
    "                       'GWG', 'EVA', 'PPA', 'SHA', 'S', 'TOI', 'ATOI', 'HIT', 'FOwin', 'FOloss', \n",
    "                       'BLK', 'FO%', 'Season', 'S%', 'GPG']]"
   ]
  },
  {
   "cell_type": "code",
   "execution_count": null,
   "metadata": {},
   "outputs": [],
   "source": [
    "# assigning uniform name to columns of separate data frames\n",
    "pre_2019_2.columns=df.columns"
   ]
  },
  {
   "cell_type": "code",
   "execution_count": null,
   "metadata": {},
   "outputs": [],
   "source": [
    "# data of pre-2019 season with new feature names\n",
    "pre_2019_2.head()"
   ]
  },
  {
   "cell_type": "code",
   "execution_count": null,
   "metadata": {},
   "outputs": [],
   "source": [
    "for i in range(len(pre_2019_2)):\n",
    "    pre_2019_2.team[i]=pre_2019_2.team[i].strip()"
   ]
  },
  {
   "cell_type": "code",
   "execution_count": null,
   "metadata": {},
   "outputs": [],
   "source": [
    "# figuring out which players changed teams\n",
    "df[df.name.duplicated()==True].name.unique()"
   ]
  },
  {
   "cell_type": "code",
   "execution_count": null,
   "metadata": {},
   "outputs": [],
   "source": [
    "# checking how traded players are represented\n",
    "df[df.name=='Ryan Strome']"
   ]
  },
  {
   "cell_type": "code",
   "execution_count": null,
   "metadata": {},
   "outputs": [],
   "source": [
    "df[df.name.duplicated()==True].name.unique()"
   ]
  },
  {
   "cell_type": "code",
   "execution_count": null,
   "metadata": {},
   "outputs": [],
   "source": [
    "# creating data frame with only the final team that player was on - I intend to declare the final team played for as that\n",
    "# player's team for the season. This way I get a full picture of things like goals and points\n",
    "final_team_df = df[df.name.duplicated()==True].drop_duplicates(subset='name',keep='last')"
   ]
  },
  {
   "cell_type": "code",
   "execution_count": null,
   "metadata": {},
   "outputs": [],
   "source": [
    "# where did \"repeat\" players end their season\n",
    "final_team_df.head()"
   ]
  },
  {
   "cell_type": "code",
   "execution_count": null,
   "metadata": {},
   "outputs": [],
   "source": [
    "# reset index of this data frame\n",
    "final_team_df.reset_index(inplace=True)"
   ]
  },
  {
   "cell_type": "code",
   "execution_count": null,
   "metadata": {},
   "outputs": [],
   "source": [
    "# drop pointless column\n",
    "final_team_df.drop('index',axis=1,inplace=True)"
   ]
  },
  {
   "cell_type": "code",
   "execution_count": null,
   "metadata": {},
   "outputs": [],
   "source": [
    "# create dictionary to assign values to team name \n",
    "final_team_dict = {}\n",
    "for i in range(len(final_team_df)):\n",
    "    final_team_dict[final_team_df.name[i]]=final_team_df.team[i]"
   ]
  },
  {
   "cell_type": "code",
   "execution_count": null,
   "metadata": {},
   "outputs": [],
   "source": [
    "# quick look at dictionary beginning\n",
    "list(final_team_dict.items())[0:15]"
   ]
  },
  {
   "cell_type": "code",
   "execution_count": null,
   "metadata": {},
   "outputs": [],
   "source": [
    "# quick look at dictionary beginning\n",
    "list(final_team_dict.keys())[0:5]"
   ]
  },
  {
   "cell_type": "code",
   "execution_count": null,
   "metadata": {},
   "outputs": [],
   "source": [
    "# removing repeats of the same player and keeping only total season stats (TOT)\n",
    "df=df.drop_duplicates(subset='name',keep='first')"
   ]
  },
  {
   "cell_type": "code",
   "execution_count": null,
   "metadata": {},
   "outputs": [],
   "source": [
    "# new look of data\n",
    "df.head()"
   ]
  },
  {
   "cell_type": "code",
   "execution_count": null,
   "metadata": {},
   "outputs": [],
   "source": [
    "# insuring that name is a string and not object\n",
    "df.name = df.name.astype(str)"
   ]
  },
  {
   "cell_type": "code",
   "execution_count": null,
   "metadata": {},
   "outputs": [],
   "source": [
    "# cheking that my dictionary will map well\n",
    "'Pontus Aberg' in list(final_team_dict.keys())"
   ]
  },
  {
   "cell_type": "code",
   "execution_count": null,
   "metadata": {},
   "outputs": [],
   "source": [
    "# reset index to deal with players removed\n",
    "df.reset_index(inplace=True)\n",
    "df.drop('index',axis=1,inplace=True)"
   ]
  },
  {
   "cell_type": "code",
   "execution_count": null,
   "metadata": {},
   "outputs": [],
   "source": [
    "# replace \"TOT\" with the final team that player played for\n",
    "for i in range(len(df)):\n",
    "    if df.name.iloc[i] in list(final_team_dict.keys()):\n",
    "        df.team.iloc[i] = final_team_dict[df.name.iloc[i]]"
   ]
  },
  {
   "cell_type": "code",
   "execution_count": null,
   "metadata": {},
   "outputs": [],
   "source": [
    "# head of data\n",
    "df.head()"
   ]
  },
  {
   "cell_type": "code",
   "execution_count": null,
   "metadata": {},
   "outputs": [],
   "source": [
    "# tail of data\n",
    "df.tail()"
   ]
  },
  {
   "cell_type": "code",
   "execution_count": null,
   "metadata": {},
   "outputs": [],
   "source": [
    "# data frame to combine with\n",
    "pre_2019_2.head()"
   ]
  },
  {
   "cell_type": "code",
   "execution_count": null,
   "metadata": {},
   "outputs": [],
   "source": [
    "# data frame to combine with\n",
    "pre_2019_2.tail()"
   ]
  },
  {
   "cell_type": "code",
   "execution_count": null,
   "metadata": {},
   "outputs": [],
   "source": [
    "open_space_lst"
   ]
  },
  {
   "cell_type": "code",
   "execution_count": null,
   "metadata": {},
   "outputs": [],
   "source": [
    "goals_dict={}\n",
    "for tm in pre_2019_2.goals.unique():\n",
    "    goals_dict[tm]=tm.replace(\" \",\"\")"
   ]
  },
  {
   "cell_type": "code",
   "execution_count": null,
   "metadata": {},
   "outputs": [],
   "source": [
    "pre_2019_2.goals=pre_2019_2.goals.map(lambda x: goals_dict[x])"
   ]
  },
  {
   "cell_type": "code",
   "execution_count": null,
   "metadata": {},
   "outputs": [],
   "source": [
    "ast_dict={}\n",
    "for tm in pre_2019_2.assists.unique():\n",
    "    ast_dict[tm]=tm.replace(\" \",\"\")"
   ]
  },
  {
   "cell_type": "code",
   "execution_count": null,
   "metadata": {},
   "outputs": [],
   "source": [
    "pre_2019_2.assists=pre_2019_2.assists.map(lambda x: ast_dict[x])"
   ]
  },
  {
   "cell_type": "code",
   "execution_count": null,
   "metadata": {},
   "outputs": [],
   "source": [
    "pos_dict={}\n",
    "for tm in pre_2019_2.pos.unique():\n",
    "    pos_dict[tm]=tm.replace(\" \",\"\")"
   ]
  },
  {
   "cell_type": "code",
   "execution_count": null,
   "metadata": {},
   "outputs": [],
   "source": [
    "pre_2019_2.pos=pre_2019_2.pos.map(lambda x: pos_dict[x])"
   ]
  },
  {
   "cell_type": "code",
   "execution_count": null,
   "metadata": {},
   "outputs": [],
   "source": [
    "pts_dict={}\n",
    "for tm in pre_2019_2.points.unique():\n",
    "    pts_dict[tm]=tm.replace(\" \",\"\")"
   ]
  },
  {
   "cell_type": "code",
   "execution_count": null,
   "metadata": {},
   "outputs": [],
   "source": [
    "pre_2019_2.points=pre_2019_2.points.map(lambda x: pts_dict[x])"
   ]
  },
  {
   "cell_type": "code",
   "execution_count": null,
   "metadata": {},
   "outputs": [],
   "source": [
    "total_df=pd.concat([df,pre_2019_2])"
   ]
  },
  {
   "cell_type": "code",
   "execution_count": null,
   "metadata": {},
   "outputs": [],
   "source": [
    "total_df.head()"
   ]
  },
  {
   "cell_type": "code",
   "execution_count": null,
   "metadata": {},
   "outputs": [],
   "source": [
    "total_df.tail()"
   ]
  },
  {
   "cell_type": "code",
   "execution_count": null,
   "metadata": {},
   "outputs": [],
   "source": [
    "total_df.season.unique()"
   ]
  },
  {
   "cell_type": "code",
   "execution_count": null,
   "metadata": {},
   "outputs": [],
   "source": [
    "total_df.columns"
   ]
  },
  {
   "cell_type": "markdown",
   "metadata": {},
   "source": [
    "# I need to add two or three goalies for each year!"
   ]
  },
  {
   "cell_type": "markdown",
   "metadata": {},
   "source": [
    "# So that is in a separate notebook, but just for fun I have added a scraper function for skaters"
   ]
  },
  {
   "cell_type": "code",
   "execution_count": 157,
   "metadata": {},
   "outputs": [],
   "source": [
    "def map_season_final_tm(df,yr):\n",
    "    df2=df[df.season==yr]\n",
    "    final_team_df = df2[df2.name.duplicated()==True].drop_duplicates(subset='name',keep='last')\n",
    "    final_team_df.reset_index(inplace=True)\n",
    "    final_team_df.drop('index',axis=1,inplace=True)\n",
    "    final_team_dict = {}\n",
    "    for i in range(len(df2)):\n",
    "        final_team_dict[final_team_df.name[i]]=final_team_df.team[i]\n",
    "    df2=df2.drop_duplicates(subset='name',keep='first')\n",
    "    df2.name = df2.name.astype(str)\n",
    "    for i in range(len(df)):\n",
    "        if df.name.iloc[i] in list(final_team_dict.keys()):\n",
    "            df.team.iloc[i] = final_team_dict[df.name.iloc[i]]\n",
    "    return final_team_df"
   ]
  },
  {
   "cell_type": "code",
   "execution_count": 158,
   "metadata": {},
   "outputs": [],
   "source": [
    "def create_skater_dataframe(year):\n",
    "    url=f'https://www.hockey-reference.com/leagues/NHL_{year}_skaters.html'\n",
    "    r=requests.get(url)\n",
    "    soup = BeautifulSoup(r.content,'html.parser')\n",
    "    player_list=[]\n",
    "    for player in soup.find_all('tbody'):\n",
    "        player_list.append(player.find_all('tr'))\n",
    "    player_list=player_list[0]\n",
    "    b =[]\n",
    "    for i in range(0,len(player_list)):\n",
    "        for stat in player_list[i].find_all('td'):\n",
    "            b.append(stat.text)\n",
    "    chunks = [b[x:x+27] for x in range(0, len(b), 27)]\n",
    "    df=pd.DataFrame(columns=['name','age','team','pos','gp','goals','assists','points','plusmin','plm','ps','goals_ev','goals_pp','goals_sh',\n",
    "                        'goals_gw','assists_ev','assists_pp','assists_sh','shots','shot_pct','toi','toi_avg',\n",
    "                        'hits','faceoff_wins','faceoff_losses','faceoff_percent'],\n",
    "               index=range(0,len(chunks)))\n",
    "    for i in range(len(df)):\n",
    "        df.name[i] = chunks[i][0]\n",
    "        df.age[i]=chunks[i][1]\n",
    "        df.team[i]=chunks[i][2]\n",
    "        df.pos[i]=chunks[i][3]\n",
    "        df.gp[i]=chunks[i][4]\n",
    "        df.goals[i]=chunks[i][5]\n",
    "        df.assists[i]=chunks[i][6]\n",
    "        df.points[i]=chunks[i][7]\n",
    "        df.plusmin[i]=chunks[i][8]\n",
    "        df.plm[i]=chunks[i][9]\n",
    "        df.ps[i]=chunks[i][10]\n",
    "        df.goals_ev[i]=chunks[i][11]\n",
    "        df.goals_pp[i]=chunks[i][12]\n",
    "        df.goals_sh[i]=chunks[i][13]\n",
    "        df.goals_gw[i]=chunks[i][14]\n",
    "        df.assists_ev[i]=chunks[i][15]\n",
    "        df.assists_pp[i]=chunks[i][16]\n",
    "        df.assists_sh[i]=chunks[i][17]\n",
    "        df.shots[i]=chunks[i][18]\n",
    "        df.shot_pct[i]=chunks[i][19]\n",
    "        df.toi[i]=chunks[i][20]\n",
    "        df.toi_avg[i]=chunks[i][21]\n",
    "        df.hits[i]=chunks[i][23]\n",
    "        df.faceoff_wins[i]=chunks[i][24]\n",
    "        df.faceoff_losses[i]=chunks[i][25]\n",
    "        df.faceoff_percent[i]=chunks[i][26]\n",
    "    block_list = []\n",
    "    for i in range(len(chunks)):\n",
    "        block_list.append((chunks[i][22]))\n",
    "    df['block']=0\n",
    "    for i in range(len(df)):\n",
    "        df.block[i]=block_list[i]\n",
    "    df.drop('faceoff_percent',axis=1,inplace=True)\n",
    "    for f in ['faceoff_wins','faceoff_losses','goals','shots','gp','points']:\n",
    "        df[f].replace(\"\",0,inplace=True)\n",
    "        df[f]=df[f].astype(int)\n",
    "    df['faceoff_pct']=round(df.faceoff_wins/(df.faceoff_losses+df.faceoff_wins),3)\n",
    "    df['season']=int(year)\n",
    "    df.drop('shot_pct',axis=1,inplace=True)\n",
    "    df['shot_pct']=df.goals/df.shots\n",
    "    for i in range(len(df)):\n",
    "        if len(df.toi_avg[i]) == 5:\n",
    "            df.toi_avg[i] = int(df.toi_avg[i].split()[0][0:2])*60 +int(df.toi_avg[i].split()[0][3:5])\n",
    "        elif len(df.toi_avg[i]) == 4:\n",
    "            df.toi_avg[i] = int(df.toi_avg[i].split()[0][0:1])*60 +int(df.toi_avg[i].split()[0][2:4])\n",
    "    df.toi_avg=df.toi_avg.astype(int)\n",
    "    df['gpg']=df.goals/df.gp\n",
    "    df['ppg']=df.points/df.gp\n",
    "    df.drop('ps',axis=1,inplace=True)\n",
    "    final_team_df = df[df.name.duplicated()==True].drop_duplicates(subset=['name'],keep='last')\n",
    "    final_team_df.reset_index(inplace=True)\n",
    "    final_team_dict = {}\n",
    "    for i in range(len(final_team_df)):\n",
    "        final_team_dict[final_team_df.name[i]]=final_team_df.team[i]\n",
    "    df=df.drop_duplicates(subset='name',keep='first')\n",
    "    df.name = df.name.astype(str)\n",
    "    df.reset_index(inplace=True)\n",
    "    df.drop('index',axis=1,inplace=True)\n",
    "    for i in range(len(df)):\n",
    "        if df.name.iloc[i] in list(final_team_dict.keys()):\n",
    "            df.team.iloc[i] = final_team_dict[df.name.iloc[i]]\n",
    "    \n",
    "    return df"
   ]
  },
  {
   "cell_type": "code",
   "execution_count": 159,
   "metadata": {},
   "outputs": [],
   "source": [
    "dfdfs=[]\n",
    "for s in range(2008,2020):\n",
    "    dfdfs.append(create_skater_dataframe(str(s)))"
   ]
  },
  {
   "cell_type": "code",
   "execution_count": 160,
   "metadata": {},
   "outputs": [],
   "source": [
    "aaa_df=pd.concat(dfdfs)"
   ]
  },
  {
   "cell_type": "code",
   "execution_count": 161,
   "metadata": {},
   "outputs": [],
   "source": [
    "for i in range(len(aaa_df)):\n",
    "    if aaa_df.name.iloc[i]=='Sebastian Aho':\n",
    "        aaa_df.team.iloc[i]='CAR'"
   ]
  },
  {
   "cell_type": "code",
   "execution_count": 180,
   "metadata": {},
   "outputs": [],
   "source": [
    "def create_skater_dataframe_early(year):\n",
    "    url=f'https://www.hockey-reference.com/leagues/NHL_{year}_skaters.html'\n",
    "    r=requests.get(url)\n",
    "    soup = BeautifulSoup(r.content,'html.parser')\n",
    "    player_list=[]\n",
    "    for player in soup.find_all('tbody'):\n",
    "        player_list.append(player.find_all('tr'))\n",
    "    player_list=player_list[0]\n",
    "    b =[]\n",
    "    for i in range(0,len(player_list)):\n",
    "        for stat in player_list[i].find_all('td'):\n",
    "            b.append(stat.text)\n",
    "    chunks = [b[x:x+22] for x in range(0, len(b), 22)]\n",
    "    df=pd.DataFrame(columns=['name','age','team','pos','gp','goals','assists','points','plusmin','plm','ps','goals_ev','goals_pp','goals_sh',\n",
    "                        'goals_gw','assists_ev','assists_pp','assists_sh','shots','shot_pct','toi','toi_avg',\n",
    "                        'hits','faceoff_wins','faceoff_losses','faceoff_percent'],\n",
    "               index=range(0,len(chunks)))\n",
    "    for i in range(len(df)):\n",
    "        df.name[i] = chunks[i][0]\n",
    "        df.age[i]=chunks[i][1]\n",
    "        df.team[i]=chunks[i][2]\n",
    "        df.pos[i]=chunks[i][3]\n",
    "        df.gp[i]=chunks[i][4]\n",
    "        df.goals[i]=chunks[i][5]\n",
    "        df.assists[i]=chunks[i][6]\n",
    "        df.points[i]=chunks[i][7]\n",
    "        df.plusmin[i]=chunks[i][8]\n",
    "        df.plm[i]=chunks[i][9]\n",
    "        df.ps[i]=chunks[i][10]\n",
    "        df.goals_ev[i]=chunks[i][11]\n",
    "        df.goals_pp[i]=chunks[i][12]\n",
    "        df.goals_sh[i]=chunks[i][13]\n",
    "        df.goals_gw[i]=chunks[i][14]\n",
    "        df.assists_ev[i]=chunks[i][15]\n",
    "        df.assists_pp[i]=chunks[i][16]\n",
    "        df.assists_sh[i]=chunks[i][17]\n",
    "        df.shots[i]=chunks[i][18]\n",
    "        df.shot_pct[i]=chunks[i][19]\n",
    "        df.toi[i]=chunks[i][20]\n",
    "        df.toi_avg[i]=chunks[i][21]\n",
    "        df.hits[i]=0\n",
    "        df.faceoff_wins[i]=0\n",
    "        df.faceoff_losses[i]=0\n",
    "        df.faceoff_percent[i]=0\n",
    "        df['block']=0\n",
    "    df.drop('faceoff_percent',axis=1,inplace=True)\n",
    "    for f in ['faceoff_wins','faceoff_losses','goals','shots','gp','points']:\n",
    "        df[f].replace(\"\",0,inplace=True)\n",
    "        df[f]=df[f].astype(int)\n",
    "    df['faceoff_pct']=round(df.faceoff_wins/(df.faceoff_losses+df.faceoff_wins),3)\n",
    "    df['season']=int(year)\n",
    "    df.drop('shot_pct',axis=1,inplace=True)\n",
    "    df['shot_pct']=df.goals/df.shots\n",
    "    df['gpg']=df.goals/df.gp\n",
    "    df['ppg']=df.points/df.gp\n",
    "    df.drop('ps',axis=1,inplace=True)\n",
    "    \n",
    "    if year != '2006':\n",
    "        final_team_df = df[df.name.duplicated()==True].drop_duplicates(subset='name',keep='last')\n",
    "        final_team_df.reset_index(inplace=True)\n",
    "        final_team_dict = {}\n",
    "        for i in range(len(final_team_df)):\n",
    "            final_team_dict[final_team_df.name[i]]=final_team_df.team[i]\n",
    "        \n",
    "        df=df.drop_duplicates(subset='name',keep='first')\n",
    "        df.name = df.name.astype(str)\n",
    "        df.reset_index(inplace=True)\n",
    "        df.drop('index',axis=1,inplace=True)\n",
    "        for i in range(len(df)):\n",
    "            if df.name.iloc[i] in list(final_team_dict.keys()):\n",
    "                df.team.iloc[i] = final_team_dict[df.name.iloc[i]]\n",
    "    \n",
    "    else:\n",
    "        for i in range(len(df)):\n",
    "            if df.team.iloc[i]=='TOT':\n",
    "                df.team.iloc[i]=df.team.iloc[i+1]\n",
    "        df=df.drop_duplicates(subset='name',keep='first')\n",
    "        df.name = df.name.astype(str)\n",
    "        df.reset_index(inplace=True)\n",
    "        df.drop('index',axis=1,inplace=True)\n",
    "    \n",
    "    return df"
   ]
  },
  {
   "cell_type": "code",
   "execution_count": 181,
   "metadata": {},
   "outputs": [
    {
     "name": "stdout",
     "output_type": "stream",
     "text": [
      "2005\n"
     ]
    }
   ],
   "source": [
    "dfdfs2=[]\n",
    "for s in range(1918,2008):\n",
    "    try:\n",
    "        dfdfs2.append(create_skater_dataframe_early(str(s)))\n",
    "    except:\n",
    "        print(str(s))"
   ]
  },
  {
   "cell_type": "code",
   "execution_count": 182,
   "metadata": {},
   "outputs": [],
   "source": [
    "aaa_df2=pd.concat(dfdfs2)"
   ]
  },
  {
   "cell_type": "code",
   "execution_count": 183,
   "metadata": {},
   "outputs": [
    {
     "data": {
      "text/html": [
       "<div>\n",
       "<style scoped>\n",
       "    .dataframe tbody tr th:only-of-type {\n",
       "        vertical-align: middle;\n",
       "    }\n",
       "\n",
       "    .dataframe tbody tr th {\n",
       "        vertical-align: top;\n",
       "    }\n",
       "\n",
       "    .dataframe thead th {\n",
       "        text-align: right;\n",
       "    }\n",
       "</style>\n",
       "<table border=\"1\" class=\"dataframe\">\n",
       "  <thead>\n",
       "    <tr style=\"text-align: right;\">\n",
       "      <th></th>\n",
       "      <th>name</th>\n",
       "      <th>age</th>\n",
       "      <th>team</th>\n",
       "      <th>pos</th>\n",
       "      <th>gp</th>\n",
       "      <th>goals</th>\n",
       "      <th>assists</th>\n",
       "      <th>points</th>\n",
       "      <th>plusmin</th>\n",
       "      <th>plm</th>\n",
       "      <th>...</th>\n",
       "      <th>toi_avg</th>\n",
       "      <th>hits</th>\n",
       "      <th>faceoff_wins</th>\n",
       "      <th>faceoff_losses</th>\n",
       "      <th>block</th>\n",
       "      <th>faceoff_pct</th>\n",
       "      <th>season</th>\n",
       "      <th>shot_pct</th>\n",
       "      <th>gpg</th>\n",
       "      <th>ppg</th>\n",
       "    </tr>\n",
       "  </thead>\n",
       "  <tbody>\n",
       "    <tr>\n",
       "      <td>0</td>\n",
       "      <td>Jack Adams*</td>\n",
       "      <td>23</td>\n",
       "      <td>TRA</td>\n",
       "      <td>C</td>\n",
       "      <td>8</td>\n",
       "      <td>0</td>\n",
       "      <td>0</td>\n",
       "      <td>0</td>\n",
       "      <td></td>\n",
       "      <td>31</td>\n",
       "      <td>...</td>\n",
       "      <td></td>\n",
       "      <td>0</td>\n",
       "      <td>0</td>\n",
       "      <td>0</td>\n",
       "      <td>0</td>\n",
       "      <td>NaN</td>\n",
       "      <td>1918</td>\n",
       "      <td>NaN</td>\n",
       "      <td>0.000000</td>\n",
       "      <td>0.000000</td>\n",
       "    </tr>\n",
       "    <tr>\n",
       "      <td>1</td>\n",
       "      <td>Billy Bell</td>\n",
       "      <td>26</td>\n",
       "      <td>MTW</td>\n",
       "      <td>F</td>\n",
       "      <td>9</td>\n",
       "      <td>1</td>\n",
       "      <td>0</td>\n",
       "      <td>1</td>\n",
       "      <td></td>\n",
       "      <td>6</td>\n",
       "      <td>...</td>\n",
       "      <td></td>\n",
       "      <td>0</td>\n",
       "      <td>0</td>\n",
       "      <td>0</td>\n",
       "      <td>0</td>\n",
       "      <td>NaN</td>\n",
       "      <td>1918</td>\n",
       "      <td>inf</td>\n",
       "      <td>0.111111</td>\n",
       "      <td>0.111111</td>\n",
       "    </tr>\n",
       "    <tr>\n",
       "      <td>2</td>\n",
       "      <td>Louis Berlinguette</td>\n",
       "      <td>30</td>\n",
       "      <td>MTL</td>\n",
       "      <td>LW</td>\n",
       "      <td>20</td>\n",
       "      <td>2</td>\n",
       "      <td>1</td>\n",
       "      <td>3</td>\n",
       "      <td></td>\n",
       "      <td>12</td>\n",
       "      <td>...</td>\n",
       "      <td></td>\n",
       "      <td>0</td>\n",
       "      <td>0</td>\n",
       "      <td>0</td>\n",
       "      <td>0</td>\n",
       "      <td>NaN</td>\n",
       "      <td>1918</td>\n",
       "      <td>inf</td>\n",
       "      <td>0.100000</td>\n",
       "      <td>0.150000</td>\n",
       "    </tr>\n",
       "    <tr>\n",
       "      <td>3</td>\n",
       "      <td>Georges Boucher*</td>\n",
       "      <td>21</td>\n",
       "      <td>OTS</td>\n",
       "      <td>F</td>\n",
       "      <td>21</td>\n",
       "      <td>9</td>\n",
       "      <td>8</td>\n",
       "      <td>17</td>\n",
       "      <td></td>\n",
       "      <td>46</td>\n",
       "      <td>...</td>\n",
       "      <td></td>\n",
       "      <td>0</td>\n",
       "      <td>0</td>\n",
       "      <td>0</td>\n",
       "      <td>0</td>\n",
       "      <td>NaN</td>\n",
       "      <td>1918</td>\n",
       "      <td>inf</td>\n",
       "      <td>0.428571</td>\n",
       "      <td>0.809524</td>\n",
       "    </tr>\n",
       "    <tr>\n",
       "      <td>4</td>\n",
       "      <td>Morley Bruce</td>\n",
       "      <td>23</td>\n",
       "      <td>OTS</td>\n",
       "      <td>D</td>\n",
       "      <td>7</td>\n",
       "      <td>0</td>\n",
       "      <td>0</td>\n",
       "      <td>0</td>\n",
       "      <td></td>\n",
       "      <td>0</td>\n",
       "      <td>...</td>\n",
       "      <td></td>\n",
       "      <td>0</td>\n",
       "      <td>0</td>\n",
       "      <td>0</td>\n",
       "      <td>0</td>\n",
       "      <td>NaN</td>\n",
       "      <td>1918</td>\n",
       "      <td>NaN</td>\n",
       "      <td>0.000000</td>\n",
       "      <td>0.000000</td>\n",
       "    </tr>\n",
       "    <tr>\n",
       "      <td>...</td>\n",
       "      <td>...</td>\n",
       "      <td>...</td>\n",
       "      <td>...</td>\n",
       "      <td>...</td>\n",
       "      <td>...</td>\n",
       "      <td>...</td>\n",
       "      <td>...</td>\n",
       "      <td>...</td>\n",
       "      <td>...</td>\n",
       "      <td>...</td>\n",
       "      <td>...</td>\n",
       "      <td>...</td>\n",
       "      <td>...</td>\n",
       "      <td>...</td>\n",
       "      <td>...</td>\n",
       "      <td>...</td>\n",
       "      <td>...</td>\n",
       "      <td>...</td>\n",
       "      <td>...</td>\n",
       "      <td>...</td>\n",
       "      <td>...</td>\n",
       "    </tr>\n",
       "    <tr>\n",
       "      <td>852</td>\n",
       "      <td>Marek Zidlicky</td>\n",
       "      <td>29</td>\n",
       "      <td>NSH</td>\n",
       "      <td>D</td>\n",
       "      <td>79</td>\n",
       "      <td>4</td>\n",
       "      <td>26</td>\n",
       "      <td>30</td>\n",
       "      <td>8</td>\n",
       "      <td>72</td>\n",
       "      <td>...</td>\n",
       "      <td>19:43</td>\n",
       "      <td>0</td>\n",
       "      <td>0</td>\n",
       "      <td>0</td>\n",
       "      <td>0</td>\n",
       "      <td>NaN</td>\n",
       "      <td>2007</td>\n",
       "      <td>0.035088</td>\n",
       "      <td>0.050633</td>\n",
       "      <td>0.379747</td>\n",
       "    </tr>\n",
       "    <tr>\n",
       "      <td>853</td>\n",
       "      <td>Mike Zigomanis</td>\n",
       "      <td>26</td>\n",
       "      <td>PHX</td>\n",
       "      <td>C</td>\n",
       "      <td>75</td>\n",
       "      <td>14</td>\n",
       "      <td>9</td>\n",
       "      <td>23</td>\n",
       "      <td>-8</td>\n",
       "      <td>46</td>\n",
       "      <td>...</td>\n",
       "      <td>14:53</td>\n",
       "      <td>0</td>\n",
       "      <td>0</td>\n",
       "      <td>0</td>\n",
       "      <td>0</td>\n",
       "      <td>NaN</td>\n",
       "      <td>2007</td>\n",
       "      <td>0.098592</td>\n",
       "      <td>0.186667</td>\n",
       "      <td>0.306667</td>\n",
       "    </tr>\n",
       "    <tr>\n",
       "      <td>854</td>\n",
       "      <td>Sergei Zubov*</td>\n",
       "      <td>36</td>\n",
       "      <td>DAL</td>\n",
       "      <td>D</td>\n",
       "      <td>78</td>\n",
       "      <td>12</td>\n",
       "      <td>42</td>\n",
       "      <td>54</td>\n",
       "      <td>0</td>\n",
       "      <td>26</td>\n",
       "      <td>...</td>\n",
       "      <td>25:57</td>\n",
       "      <td>0</td>\n",
       "      <td>0</td>\n",
       "      <td>0</td>\n",
       "      <td>0</td>\n",
       "      <td>NaN</td>\n",
       "      <td>2007</td>\n",
       "      <td>0.076923</td>\n",
       "      <td>0.153846</td>\n",
       "      <td>0.692308</td>\n",
       "    </tr>\n",
       "    <tr>\n",
       "      <td>855</td>\n",
       "      <td>Dainius Zubrus</td>\n",
       "      <td>28</td>\n",
       "      <td>BUF</td>\n",
       "      <td>RW</td>\n",
       "      <td>79</td>\n",
       "      <td>24</td>\n",
       "      <td>36</td>\n",
       "      <td>60</td>\n",
       "      <td>-19</td>\n",
       "      <td>62</td>\n",
       "      <td>...</td>\n",
       "      <td>19:29</td>\n",
       "      <td>0</td>\n",
       "      <td>0</td>\n",
       "      <td>0</td>\n",
       "      <td>0</td>\n",
       "      <td>NaN</td>\n",
       "      <td>2007</td>\n",
       "      <td>0.151899</td>\n",
       "      <td>0.303797</td>\n",
       "      <td>0.759494</td>\n",
       "    </tr>\n",
       "    <tr>\n",
       "      <td>856</td>\n",
       "      <td>Andrei Zyuzin</td>\n",
       "      <td>29</td>\n",
       "      <td>CGY</td>\n",
       "      <td>D</td>\n",
       "      <td>49</td>\n",
       "      <td>1</td>\n",
       "      <td>5</td>\n",
       "      <td>6</td>\n",
       "      <td>-2</td>\n",
       "      <td>30</td>\n",
       "      <td>...</td>\n",
       "      <td>13:49</td>\n",
       "      <td>0</td>\n",
       "      <td>0</td>\n",
       "      <td>0</td>\n",
       "      <td>0</td>\n",
       "      <td>NaN</td>\n",
       "      <td>2007</td>\n",
       "      <td>0.027778</td>\n",
       "      <td>0.020408</td>\n",
       "      <td>0.122449</td>\n",
       "    </tr>\n",
       "  </tbody>\n",
       "</table>\n",
       "<p>30470 rows × 29 columns</p>\n",
       "</div>"
      ],
      "text/plain": [
       "                   name age team pos  gp  goals assists  points plusmin plm  \\\n",
       "0           Jack Adams*  23  TRA   C   8      0       0       0          31   \n",
       "1            Billy Bell  26  MTW   F   9      1       0       1           6   \n",
       "2    Louis Berlinguette  30  MTL  LW  20      2       1       3          12   \n",
       "3      Georges Boucher*  21  OTS   F  21      9       8      17          46   \n",
       "4          Morley Bruce  23  OTS   D   7      0       0       0           0   \n",
       "..                  ...  ..  ...  ..  ..    ...     ...     ...     ...  ..   \n",
       "852      Marek Zidlicky  29  NSH   D  79      4      26      30       8  72   \n",
       "853      Mike Zigomanis  26  PHX   C  75     14       9      23      -8  46   \n",
       "854       Sergei Zubov*  36  DAL   D  78     12      42      54       0  26   \n",
       "855      Dainius Zubrus  28  BUF  RW  79     24      36      60     -19  62   \n",
       "856       Andrei Zyuzin  29  CGY   D  49      1       5       6      -2  30   \n",
       "\n",
       "     ... toi_avg hits faceoff_wins faceoff_losses block faceoff_pct season  \\\n",
       "0    ...            0            0              0     0         NaN   1918   \n",
       "1    ...            0            0              0     0         NaN   1918   \n",
       "2    ...            0            0              0     0         NaN   1918   \n",
       "3    ...            0            0              0     0         NaN   1918   \n",
       "4    ...            0            0              0     0         NaN   1918   \n",
       "..   ...     ...  ...          ...            ...   ...         ...    ...   \n",
       "852  ...   19:43    0            0              0     0         NaN   2007   \n",
       "853  ...   14:53    0            0              0     0         NaN   2007   \n",
       "854  ...   25:57    0            0              0     0         NaN   2007   \n",
       "855  ...   19:29    0            0              0     0         NaN   2007   \n",
       "856  ...   13:49    0            0              0     0         NaN   2007   \n",
       "\n",
       "     shot_pct       gpg       ppg  \n",
       "0         NaN  0.000000  0.000000  \n",
       "1         inf  0.111111  0.111111  \n",
       "2         inf  0.100000  0.150000  \n",
       "3         inf  0.428571  0.809524  \n",
       "4         NaN  0.000000  0.000000  \n",
       "..        ...       ...       ...  \n",
       "852  0.035088  0.050633  0.379747  \n",
       "853  0.098592  0.186667  0.306667  \n",
       "854  0.076923  0.153846  0.692308  \n",
       "855  0.151899  0.303797  0.759494  \n",
       "856  0.027778  0.020408  0.122449  \n",
       "\n",
       "[30470 rows x 29 columns]"
      ]
     },
     "execution_count": 183,
     "metadata": {},
     "output_type": "execute_result"
    }
   ],
   "source": [
    "aaa_df2"
   ]
  },
  {
   "cell_type": "code",
   "execution_count": 184,
   "metadata": {},
   "outputs": [],
   "source": [
    "final_team_df_changed =pd.concat([aaa_df,aaa_df2])"
   ]
  },
  {
   "cell_type": "code",
   "execution_count": 185,
   "metadata": {},
   "outputs": [],
   "source": [
    "final_team_df_changed=final_team_df_changed.sort_values(by=['season','team'])"
   ]
  },
  {
   "cell_type": "code",
   "execution_count": 186,
   "metadata": {},
   "outputs": [
    {
     "data": {
      "text/plain": [
       "Index(['name', 'age', 'team', 'pos', 'gp', 'goals', 'assists', 'points',\n",
       "       'plusmin', 'plm', 'goals_ev', 'goals_pp', 'goals_sh', 'goals_gw',\n",
       "       'assists_ev', 'assists_pp', 'assists_sh', 'shots', 'toi', 'toi_avg',\n",
       "       'hits', 'faceoff_wins', 'faceoff_losses', 'block', 'faceoff_pct',\n",
       "       'season', 'shot_pct', 'gpg', 'ppg'],\n",
       "      dtype='object')"
      ]
     },
     "execution_count": 186,
     "metadata": {},
     "output_type": "execute_result"
    }
   ],
   "source": [
    "final_team_df_changed.columns"
   ]
  },
  {
   "cell_type": "code",
   "execution_count": 187,
   "metadata": {},
   "outputs": [],
   "source": [
    "final_team_df_changed=final_team_df_changed[['season','team','name', 'age', 'pos', 'gp', 'goals', 'assists', 'points',\n",
    "       'plusmin', 'plm', 'goals_ev', 'goals_pp', 'goals_sh', 'goals_gw',\n",
    "       'assists_ev', 'assists_pp', 'assists_sh', 'shots', 'toi', 'toi_avg',\n",
    "       'hits', 'faceoff_wins', 'faceoff_losses', 'block', 'faceoff_pct',\n",
    "       'shot_pct', 'gpg', 'ppg']]"
   ]
  },
  {
   "cell_type": "code",
   "execution_count": 188,
   "metadata": {},
   "outputs": [
    {
     "data": {
      "text/plain": [
       "array(['MTL', 'MTW', 'OTS', 'TRA', 'QBC', 'TRS', 'HAM', 'BOS', 'MTM',\n",
       "       'NYA', 'PTP', 'CBH', 'DTC', 'NYR', 'TOR', 'DTF', 'PHQ', 'DET',\n",
       "       'TOT', 'STE', 'BRO', 'LAK', 'MNS', 'OAK', 'PHI', 'PIT', 'STL',\n",
       "       'BUF', 'CGS', 'VAN', 'ATF', 'NYI', 'KCS', 'WSH', 'CLE', 'CLR',\n",
       "       'EDM', 'HAR', 'QUE', 'WIN', 'CGY', 'NJD', 'CHI', 'SJS', 'OTT',\n",
       "       'TBL', 'DAL', 'FLA', 'MDA', 'COL', 'PHX', 'CAR', 'NSH', 'ATL',\n",
       "       'CBJ', 'MIN', 'ANA', 'WPG', 'ARI', 'VEG'], dtype=object)"
      ]
     },
     "execution_count": 188,
     "metadata": {},
     "output_type": "execute_result"
    }
   ],
   "source": [
    "final_team_df_changed.team.unique()"
   ]
  },
  {
   "cell_type": "code",
   "execution_count": 189,
   "metadata": {},
   "outputs": [
    {
     "data": {
      "text/plain": [
       "season              int64\n",
       "team               object\n",
       "name               object\n",
       "age                object\n",
       "pos                object\n",
       "gp                  int64\n",
       "goals               int64\n",
       "assists            object\n",
       "points              int64\n",
       "plusmin            object\n",
       "plm                object\n",
       "goals_ev           object\n",
       "goals_pp           object\n",
       "goals_sh           object\n",
       "goals_gw           object\n",
       "assists_ev         object\n",
       "assists_pp         object\n",
       "assists_sh         object\n",
       "shots               int64\n",
       "toi                object\n",
       "toi_avg            object\n",
       "hits               object\n",
       "faceoff_wins        int64\n",
       "faceoff_losses      int64\n",
       "block              object\n",
       "faceoff_pct       float64\n",
       "shot_pct          float64\n",
       "gpg               float64\n",
       "ppg               float64\n",
       "dtype: object"
      ]
     },
     "execution_count": 189,
     "metadata": {},
     "output_type": "execute_result"
    }
   ],
   "source": [
    "final_team_df_changed.dtypes"
   ]
  },
  {
   "cell_type": "code",
   "execution_count": 190,
   "metadata": {},
   "outputs": [],
   "source": [
    "final_team_df_changed.assists=final_team_df_changed.assists.astype(float)"
   ]
  },
  {
   "cell_type": "code",
   "execution_count": 191,
   "metadata": {},
   "outputs": [
    {
     "data": {
      "text/plain": [
       "array(['', '-6', '-2', '-7', '-14', '2', '-11', '-4', '-3', '-12', '-10',\n",
       "       '-18', '-15', '-1', '3', '-24', '6', '-5', '1', '0', '17', '27',\n",
       "       '-9', '13', '10', '20', '4', '14', '11', '-26', '16', '-13', '9',\n",
       "       '-19', '28', '8', '37', '24', '32', '19', '5', '7', '21', '18',\n",
       "       '-31', '-27', '-16', '-8', '-23', '12', '-22', '-28', '-21', '-25',\n",
       "       '29', '30', '-20', '31', '23', '26', '-46', '-43', '-17', '-36',\n",
       "       '-42', '-62', '-44', '-41', '-33', '-58', '35', '55', '25', '48',\n",
       "       '34', '47', '40', '-39', '22', '15', '-30', '-37', '33', '-35',\n",
       "       '-45', '-34', '-29', '43', '54', '50', '44', '42', '45', '-32',\n",
       "       '36', '38', '-40', '41', '59', '69', '124', '39', '98', '57',\n",
       "       '-38', '51', '-57', '-48', '83', '53', '60', '63', '61', '77',\n",
       "       '52', '70', '-53', '-47', '84', '-49', '80', '46', '-50', '-52',\n",
       "       '-56', '-54', '72', '79', '-69', '-65', '-82', '-60', '-51', '67',\n",
       "       '64', '73', '74', '66', '56', '49', '89', '120', '58', '68', '71',\n",
       "       '62', '-61', '76', '-55', '78', '-59', '65', '100', '87', '86'],\n",
       "      dtype=object)"
      ]
     },
     "execution_count": 191,
     "metadata": {},
     "output_type": "execute_result"
    }
   ],
   "source": [
    "final_team_df_changed.plusmin.unique()"
   ]
  },
  {
   "cell_type": "code",
   "execution_count": 192,
   "metadata": {},
   "outputs": [],
   "source": [
    "final_team_df_changed.plusmin=final_team_df_changed.plusmin.replace(\"\",0)"
   ]
  },
  {
   "cell_type": "code",
   "execution_count": 193,
   "metadata": {},
   "outputs": [],
   "source": [
    "final_team_df_changed.plusmin=final_team_df_changed.plusmin.astype(float)"
   ]
  },
  {
   "cell_type": "code",
   "execution_count": 194,
   "metadata": {},
   "outputs": [],
   "source": [
    "for col in ['gp', 'goals', 'assists', 'points',\n",
    "       'plusmin', 'plm', 'goals_ev', 'goals_pp', 'goals_sh', 'goals_gw',\n",
    "       'assists_ev', 'assists_pp', 'assists_sh', 'shots', 'toi',\n",
    "       'hits', 'faceoff_wins', 'faceoff_losses', 'block', 'faceoff_pct',\n",
    "       'shot_pct', 'gpg', 'ppg']:\n",
    "    final_team_df_changed[col]=final_team_df_changed[col].replace(\"\",0)\n",
    "    final_team_df_changed[col]=final_team_df_changed[col].astype(float)\n",
    "    final_team_df_changed[col].fillna(0,inplace=True)"
   ]
  },
  {
   "cell_type": "code",
   "execution_count": 195,
   "metadata": {},
   "outputs": [],
   "source": [
    "final_team_df_changed.drop('toi_avg',axis=1,inplace=True)"
   ]
  },
  {
   "cell_type": "code",
   "execution_count": 196,
   "metadata": {},
   "outputs": [],
   "source": [
    "final_team_df_changed['toi_avg']=final_team_df_changed.toi/final_team_df_changed.gp"
   ]
  },
  {
   "cell_type": "code",
   "execution_count": 197,
   "metadata": {},
   "outputs": [],
   "source": [
    "import numpy as np"
   ]
  },
  {
   "cell_type": "code",
   "execution_count": 198,
   "metadata": {},
   "outputs": [],
   "source": [
    "final_team_df_changed.replace([np.inf, -np.inf], np.nan,inplace=True)"
   ]
  },
  {
   "cell_type": "code",
   "execution_count": 199,
   "metadata": {},
   "outputs": [],
   "source": [
    "for col in ['gp', 'goals', 'assists', 'points',\n",
    "       'plusmin', 'plm', 'goals_ev', 'goals_pp', 'goals_sh', 'goals_gw',\n",
    "       'assists_ev', 'assists_pp', 'assists_sh', 'shots', 'toi',\n",
    "       'hits', 'faceoff_wins', 'faceoff_losses', 'block', 'faceoff_pct',\n",
    "       'shot_pct', 'gpg', 'ppg','toi_avg']:\n",
    "    final_team_df_changed[col].fillna(0,inplace=True)"
   ]
  },
  {
   "cell_type": "code",
   "execution_count": 200,
   "metadata": {},
   "outputs": [],
   "source": [
    "final_team_df_changed.to_csv('skater_data.csv')"
   ]
  }
 ],
 "metadata": {
  "kernelspec": {
   "display_name": "Python 3",
   "language": "python",
   "name": "python3"
  },
  "language_info": {
   "codemirror_mode": {
    "name": "ipython",
    "version": 3
   },
   "file_extension": ".py",
   "mimetype": "text/x-python",
   "name": "python",
   "nbconvert_exporter": "python",
   "pygments_lexer": "ipython3",
   "version": "3.7.4"
  }
 },
 "nbformat": 4,
 "nbformat_minor": 4
}
