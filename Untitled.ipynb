{
 "cells": [
  {
   "cell_type": "code",
   "execution_count": 169,
   "metadata": {},
   "outputs": [],
   "source": [
    "pre_2019=pd.read_csv('skater_stats.csv',encoding = \"ISO-8859-1\")"
   ]
  },
  {
   "cell_type": "code",
   "execution_count": 22,
   "metadata": {},
   "outputs": [],
   "source": [
    "import warnings\n",
    "warnings.filterwarnings('ignore')\n",
    "from bs4 import BeautifulSoup\n",
    "import pandas as pd\n",
    "from scipy import stats\n",
    "import numpy as np\n",
    "import spacy\n",
    "import seaborn as sns\n",
    "import matplotlib.pyplot as plt\n",
    "import requests\n",
    "from urllib.request import urlopen\n",
    "import json"
   ]
  },
  {
   "cell_type": "code",
   "execution_count": 1,
   "metadata": {},
   "outputs": [],
   "source": [
    "url='https://www.hockey-reference.com/leagues/NHL_2019_skaters.html'"
   ]
  },
  {
   "cell_type": "code",
   "execution_count": 3,
   "metadata": {},
   "outputs": [],
   "source": [
    "r=requests.get(url)"
   ]
  },
  {
   "cell_type": "code",
   "execution_count": 4,
   "metadata": {},
   "outputs": [],
   "source": [
    "soup = BeautifulSoup(r.content,'html.parser')"
   ]
  },
  {
   "cell_type": "code",
   "execution_count": 73,
   "metadata": {},
   "outputs": [],
   "source": [
    "player_list=[]\n",
    "for player in soup.find_all('tbody'):\n",
    "    player_list.append(player.find_all('tr'))"
   ]
  },
  {
   "cell_type": "code",
   "execution_count": 79,
   "metadata": {},
   "outputs": [],
   "source": [
    "player_list=player_list[0]"
   ]
  },
  {
   "cell_type": "code",
   "execution_count": 82,
   "metadata": {},
   "outputs": [
    {
     "data": {
      "text/plain": [
       "<tr><th class=\"right\" csk=\"1\" data-stat=\"ranker\" scope=\"row\">1</th><td class=\"left\" csk=\"Abdelkader,Justin\" data-append-csv=\"abdelju01\" data-stat=\"player\"><a href=\"/players/a/abdelju01.html\">Justin Abdelkader</a></td><td class=\"right\" data-stat=\"age\">31</td><td class=\"left\" data-stat=\"team_id\"><a href=\"/teams/DET/2019.html\">DET</a></td><td class=\"center\" csk=\"1:Abdelkader:Justin\" data-stat=\"pos\">LW</td><td class=\"right\" data-stat=\"games_played\">71</td><td class=\"right\" data-stat=\"goals\">6</td><td class=\"right\" data-stat=\"assists\">13</td><td class=\"right\" data-stat=\"points\">19</td><td class=\"right\" data-stat=\"plus_minus\">-14</td><td class=\"right\" data-stat=\"pen_min\">38</td><td class=\"right\" data-stat=\"ps\">0.1</td><td class=\"right\" data-stat=\"goals_ev\">4</td><td class=\"right\" data-stat=\"goals_pp\">1</td><td class=\"right\" data-stat=\"goals_sh\">1</td><td class=\"right iz\" data-stat=\"goals_gw\">0</td><td class=\"right\" data-stat=\"assists_ev\">12</td><td class=\"right\" data-stat=\"assists_pp\">1</td><td class=\"right iz\" data-stat=\"assists_sh\">0</td><td class=\"right\" data-stat=\"shots\">95</td><td class=\"right\" data-stat=\"shot_pct\">6.3</td><td class=\"right\" data-stat=\"time_on_ice\">1093</td><td class=\"right\" data-stat=\"time_on_ice_avg\">15:24</td><td class=\"right\" data-stat=\"blocks\">34</td><td class=\"right\" data-stat=\"hits\">185</td><td class=\"right\" data-stat=\"faceoff_wins\">52</td><td class=\"right\" data-stat=\"faceoff_losses\">51</td><td class=\"center\" data-stat=\"faceoff_percentage\">50.5</td></tr>"
      ]
     },
     "execution_count": 82,
     "metadata": {},
     "output_type": "execute_result"
    }
   ],
   "source": [
    "player_list[0]"
   ]
  },
  {
   "cell_type": "code",
   "execution_count": 151,
   "metadata": {},
   "outputs": [
    {
     "data": {
      "text/plain": [
       "1121"
      ]
     },
     "execution_count": 151,
     "metadata": {},
     "output_type": "execute_result"
    }
   ],
   "source": [
    "len(player_list)"
   ]
  },
  {
   "cell_type": "code",
   "execution_count": 135,
   "metadata": {},
   "outputs": [],
   "source": [
    "a=[]\n",
    "for stat in player_list[0].find_all('td'):\n",
    "    a.append(stat.text)"
   ]
  },
  {
   "cell_type": "code",
   "execution_count": 160,
   "metadata": {},
   "outputs": [
    {
     "data": {
      "text/plain": [
       "'Justin Abdelkader'"
      ]
     },
     "execution_count": 160,
     "metadata": {},
     "output_type": "execute_result"
    }
   ],
   "source": [
    "a[0]"
   ]
  },
  {
   "cell_type": "code",
   "execution_count": 159,
   "metadata": {},
   "outputs": [
    {
     "data": {
      "text/plain": [
       "'DET'"
      ]
     },
     "execution_count": 159,
     "metadata": {},
     "output_type": "execute_result"
    }
   ],
   "source": [
    "a[2]"
   ]
  },
  {
   "cell_type": "code",
   "execution_count": 161,
   "metadata": {},
   "outputs": [
    {
     "data": {
      "text/plain": [
       "'LW'"
      ]
     },
     "execution_count": 161,
     "metadata": {},
     "output_type": "execute_result"
    }
   ],
   "source": [
    "a[3]"
   ]
  },
  {
   "cell_type": "code",
   "execution_count": 104,
   "metadata": {},
   "outputs": [
    {
     "name": "stdout",
     "output_type": "stream",
     "text": [
      "ranker 1\n",
      "age 31\n",
      "games_played 71\n",
      "goals 6\n",
      "assists 13\n",
      "points 19\n",
      "plus_minus -14\n",
      "pen_min 38\n",
      "ps 0.1\n",
      "goals_ev 4\n",
      "goals_pp 1\n",
      "goals_sh 1\n",
      "goals_gw 0\n",
      "assists_ev 12\n",
      "assists_pp 1\n",
      "assists_sh 0\n",
      "shots 95\n",
      "shot_pct 6.3\n",
      "time_on_ice 1093\n",
      "time_on_ice_avg 15:24\n",
      "blocks 34\n",
      "hits 185\n",
      "faceoff_wins 52\n",
      "faceoff_losses 51\n"
     ]
    }
   ],
   "source": [
    "for stat in player_list[0].find_all(class_='right'):\n",
    "    print(stat['data-stat'],stat.text)"
   ]
  },
  {
   "cell_type": "code",
   "execution_count": 138,
   "metadata": {},
   "outputs": [],
   "source": [
    "df=pd.DataFrame(columns=['name','age','gp','goals','assists','points','p/m','plm','ps','goals_ev','goals_pp','goals_sh',\n",
    "                        'goals_gw','assists_ev','assists_pp','assists_sh','shots','shot_pct','toi','toi_avg','blocks',\n",
    "                        'hits','faceoff_wins','faceoff_losses'])"
   ]
  },
  {
   "cell_type": "code",
   "execution_count": 139,
   "metadata": {},
   "outputs": [
    {
     "data": {
      "text/html": [
       "<div>\n",
       "<style scoped>\n",
       "    .dataframe tbody tr th:only-of-type {\n",
       "        vertical-align: middle;\n",
       "    }\n",
       "\n",
       "    .dataframe tbody tr th {\n",
       "        vertical-align: top;\n",
       "    }\n",
       "\n",
       "    .dataframe thead th {\n",
       "        text-align: right;\n",
       "    }\n",
       "</style>\n",
       "<table border=\"1\" class=\"dataframe\">\n",
       "  <thead>\n",
       "    <tr style=\"text-align: right;\">\n",
       "      <th></th>\n",
       "      <th>name</th>\n",
       "      <th>age</th>\n",
       "      <th>gp</th>\n",
       "      <th>goals</th>\n",
       "      <th>assists</th>\n",
       "      <th>points</th>\n",
       "      <th>p/m</th>\n",
       "      <th>plm</th>\n",
       "      <th>ps</th>\n",
       "      <th>goals_ev</th>\n",
       "      <th>...</th>\n",
       "      <th>assists_pp</th>\n",
       "      <th>assists_sh</th>\n",
       "      <th>shots</th>\n",
       "      <th>shot_pct</th>\n",
       "      <th>toi</th>\n",
       "      <th>toi_avg</th>\n",
       "      <th>blocks</th>\n",
       "      <th>hits</th>\n",
       "      <th>faceoff_wins</th>\n",
       "      <th>faceoff_losses</th>\n",
       "    </tr>\n",
       "  </thead>\n",
       "  <tbody>\n",
       "  </tbody>\n",
       "</table>\n",
       "<p>0 rows × 24 columns</p>\n",
       "</div>"
      ],
      "text/plain": [
       "Empty DataFrame\n",
       "Columns: [name, age, gp, goals, assists, points, p/m, plm, ps, goals_ev, goals_pp, goals_sh, goals_gw, assists_ev, assists_pp, assists_sh, shots, shot_pct, toi, toi_avg, blocks, hits, faceoff_wins, faceoff_losses]\n",
       "Index: []\n",
       "\n",
       "[0 rows x 24 columns]"
      ]
     },
     "execution_count": 139,
     "metadata": {},
     "output_type": "execute_result"
    }
   ],
   "source": [
    "df"
   ]
  }
 ],
 "metadata": {
  "kernelspec": {
   "display_name": "Python 3",
   "language": "python",
   "name": "python3"
  },
  "language_info": {
   "codemirror_mode": {
    "name": "ipython",
    "version": 3
   },
   "file_extension": ".py",
   "mimetype": "text/x-python",
   "name": "python",
   "nbconvert_exporter": "python",
   "pygments_lexer": "ipython3",
   "version": "3.7.4"
  }
 },
 "nbformat": 4,
 "nbformat_minor": 4
}
