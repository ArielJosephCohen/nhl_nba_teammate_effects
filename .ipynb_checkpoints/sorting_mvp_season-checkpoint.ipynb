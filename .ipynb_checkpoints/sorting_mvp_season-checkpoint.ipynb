{
 "cells": [
  {
   "cell_type": "code",
   "execution_count": 1,
   "metadata": {},
   "outputs": [],
   "source": [
    "import warnings\n",
    "warnings.filterwarnings('ignore')\n",
    "import pandas as pd"
   ]
  },
  {
   "cell_type": "code",
   "execution_count": 2,
   "metadata": {},
   "outputs": [],
   "source": [
    "goalies=pd.read_csv('goalie_data.csv')\n",
    "skater=pd.read_csv('skater_data.csv')\n",
    "nba=pd.read_csv('combine_nba_data.csv')"
   ]
  },
  {
   "cell_type": "code",
   "execution_count": 3,
   "metadata": {},
   "outputs": [],
   "source": [
    "hart = pd.read_csv('hart_trophy_winners.csv')\n",
    "mvp = pd.read_csv('nba_mvps.csv')"
   ]
  },
  {
   "cell_type": "code",
   "execution_count": 4,
   "metadata": {},
   "outputs": [
    {
     "data": {
      "text/html": [
       "<div>\n",
       "<style scoped>\n",
       "    .dataframe tbody tr th:only-of-type {\n",
       "        vertical-align: middle;\n",
       "    }\n",
       "\n",
       "    .dataframe tbody tr th {\n",
       "        vertical-align: top;\n",
       "    }\n",
       "\n",
       "    .dataframe thead th {\n",
       "        text-align: right;\n",
       "    }\n",
       "</style>\n",
       "<table border=\"1\" class=\"dataframe\">\n",
       "  <thead>\n",
       "    <tr style=\"text-align: right;\">\n",
       "      <th></th>\n",
       "      <th>Unnamed: 0</th>\n",
       "      <th>Player</th>\n",
       "      <th>Team</th>\n",
       "      <th>Season</th>\n",
       "    </tr>\n",
       "  </thead>\n",
       "  <tbody>\n",
       "    <tr>\n",
       "      <td>0</td>\n",
       "      <td>0</td>\n",
       "      <td>Nikita Kucherov</td>\n",
       "      <td>TBL</td>\n",
       "      <td>2019</td>\n",
       "    </tr>\n",
       "    <tr>\n",
       "      <td>1</td>\n",
       "      <td>1</td>\n",
       "      <td>Taylor Hall</td>\n",
       "      <td>NJD</td>\n",
       "      <td>2018</td>\n",
       "    </tr>\n",
       "    <tr>\n",
       "      <td>2</td>\n",
       "      <td>2</td>\n",
       "      <td>Connor McDavid</td>\n",
       "      <td>EDM</td>\n",
       "      <td>2017</td>\n",
       "    </tr>\n",
       "    <tr>\n",
       "      <td>3</td>\n",
       "      <td>3</td>\n",
       "      <td>Patrick Kane</td>\n",
       "      <td>CHI</td>\n",
       "      <td>2016</td>\n",
       "    </tr>\n",
       "    <tr>\n",
       "      <td>4</td>\n",
       "      <td>4</td>\n",
       "      <td>Carey Price</td>\n",
       "      <td>MTL</td>\n",
       "      <td>2015</td>\n",
       "    </tr>\n",
       "  </tbody>\n",
       "</table>\n",
       "</div>"
      ],
      "text/plain": [
       "   Unnamed: 0           Player Team  Season\n",
       "0           0  Nikita Kucherov  TBL    2019\n",
       "1           1      Taylor Hall  NJD    2018\n",
       "2           2   Connor McDavid  EDM    2017\n",
       "3           3     Patrick Kane  CHI    2016\n",
       "4           4      Carey Price  MTL    2015"
      ]
     },
     "execution_count": 4,
     "metadata": {},
     "output_type": "execute_result"
    }
   ],
   "source": [
    "hart.head()"
   ]
  },
  {
   "cell_type": "code",
   "execution_count": 5,
   "metadata": {},
   "outputs": [],
   "source": [
    "hart_dict = {}\n",
    "for i in range(len(hart)):\n",
    "    hart_dict[hart.Player[i]]=(hart.Team[i],hart.Season[i])"
   ]
  },
  {
   "cell_type": "code",
   "execution_count": 6,
   "metadata": {},
   "outputs": [],
   "source": [
    "hart_teams = {}\n",
    "for i in range(len(hart)):\n",
    "    hart_teams[hart.Player[i]]=(hart.Team[i])"
   ]
  },
  {
   "cell_type": "code",
   "execution_count": 7,
   "metadata": {},
   "outputs": [],
   "source": [
    "hart_years = {}\n",
    "for i in range(len(hart)):\n",
    "    hart_years[hart.Player[i]]=(hart.Season[i])"
   ]
  },
  {
   "cell_type": "code",
   "execution_count": 8,
   "metadata": {},
   "outputs": [],
   "source": [
    "hart_df=pd.DataFrame(columns=skater.columns)"
   ]
  },
  {
   "cell_type": "code",
   "execution_count": 9,
   "metadata": {},
   "outputs": [
    {
     "data": {
      "text/html": [
       "<div>\n",
       "<style scoped>\n",
       "    .dataframe tbody tr th:only-of-type {\n",
       "        vertical-align: middle;\n",
       "    }\n",
       "\n",
       "    .dataframe tbody tr th {\n",
       "        vertical-align: top;\n",
       "    }\n",
       "\n",
       "    .dataframe thead th {\n",
       "        text-align: right;\n",
       "    }\n",
       "</style>\n",
       "<table border=\"1\" class=\"dataframe\">\n",
       "  <thead>\n",
       "    <tr style=\"text-align: right;\">\n",
       "      <th></th>\n",
       "      <th>Unnamed: 0</th>\n",
       "      <th>name</th>\n",
       "      <th>age</th>\n",
       "      <th>team</th>\n",
       "      <th>pos</th>\n",
       "      <th>gp</th>\n",
       "      <th>goals</th>\n",
       "      <th>assists</th>\n",
       "      <th>points</th>\n",
       "      <th>plusmin</th>\n",
       "      <th>...</th>\n",
       "      <th>toi</th>\n",
       "      <th>toi_avg</th>\n",
       "      <th>hits</th>\n",
       "      <th>faceoff_wins</th>\n",
       "      <th>faceoff_losses</th>\n",
       "      <th>block</th>\n",
       "      <th>faceoff_pct</th>\n",
       "      <th>season</th>\n",
       "      <th>shot_pct</th>\n",
       "      <th>gpg</th>\n",
       "    </tr>\n",
       "  </thead>\n",
       "  <tbody>\n",
       "  </tbody>\n",
       "</table>\n",
       "<p>0 rows × 29 columns</p>\n",
       "</div>"
      ],
      "text/plain": [
       "Empty DataFrame\n",
       "Columns: [Unnamed: 0, name, age, team, pos, gp, goals, assists, points, plusmin, plm, goals_ev, goals_pp, goals_sh, goals_gw, assists_ev, assists_pp, assists_sh, shots, toi, toi_avg, hits, faceoff_wins, faceoff_losses, block, faceoff_pct, season, shot_pct, gpg]\n",
       "Index: []\n",
       "\n",
       "[0 rows x 29 columns]"
      ]
     },
     "execution_count": 9,
     "metadata": {},
     "output_type": "execute_result"
    }
   ],
   "source": [
    "hart_df.head()"
   ]
  },
  {
   "cell_type": "code",
   "execution_count": 12,
   "metadata": {},
   "outputs": [],
   "source": [
    "skater.reset_index(inplace=True)"
   ]
  },
  {
   "cell_type": "code",
   "execution_count": 13,
   "metadata": {},
   "outputs": [
    {
     "data": {
      "text/html": [
       "<div>\n",
       "<style scoped>\n",
       "    .dataframe tbody tr th:only-of-type {\n",
       "        vertical-align: middle;\n",
       "    }\n",
       "\n",
       "    .dataframe tbody tr th {\n",
       "        vertical-align: top;\n",
       "    }\n",
       "\n",
       "    .dataframe thead th {\n",
       "        text-align: right;\n",
       "    }\n",
       "</style>\n",
       "<table border=\"1\" class=\"dataframe\">\n",
       "  <thead>\n",
       "    <tr style=\"text-align: right;\">\n",
       "      <th></th>\n",
       "      <th>index</th>\n",
       "      <th>Unnamed: 0</th>\n",
       "      <th>name</th>\n",
       "      <th>age</th>\n",
       "      <th>team</th>\n",
       "      <th>pos</th>\n",
       "      <th>gp</th>\n",
       "      <th>goals</th>\n",
       "      <th>assists</th>\n",
       "      <th>points</th>\n",
       "      <th>...</th>\n",
       "      <th>toi</th>\n",
       "      <th>toi_avg</th>\n",
       "      <th>hits</th>\n",
       "      <th>faceoff_wins</th>\n",
       "      <th>faceoff_losses</th>\n",
       "      <th>block</th>\n",
       "      <th>faceoff_pct</th>\n",
       "      <th>season</th>\n",
       "      <th>shot_pct</th>\n",
       "      <th>gpg</th>\n",
       "    </tr>\n",
       "  </thead>\n",
       "  <tbody>\n",
       "    <tr>\n",
       "      <td>0</td>\n",
       "      <td>0</td>\n",
       "      <td>0</td>\n",
       "      <td>Justin Abdelkader</td>\n",
       "      <td>31.0</td>\n",
       "      <td>DET</td>\n",
       "      <td>LW</td>\n",
       "      <td>71</td>\n",
       "      <td>6</td>\n",
       "      <td>13</td>\n",
       "      <td>19</td>\n",
       "      <td>...</td>\n",
       "      <td>1093</td>\n",
       "      <td>924</td>\n",
       "      <td>185.0</td>\n",
       "      <td>52.0</td>\n",
       "      <td>51.0</td>\n",
       "      <td>34.0</td>\n",
       "      <td>0.505</td>\n",
       "      <td>2019</td>\n",
       "      <td>0.06315789473684211</td>\n",
       "      <td>0.084507</td>\n",
       "    </tr>\n",
       "    <tr>\n",
       "      <td>1</td>\n",
       "      <td>1</td>\n",
       "      <td>1</td>\n",
       "      <td>Pontus Aberg</td>\n",
       "      <td>25.0</td>\n",
       "      <td>MIN</td>\n",
       "      <td>LW</td>\n",
       "      <td>59</td>\n",
       "      <td>12</td>\n",
       "      <td>13</td>\n",
       "      <td>25</td>\n",
       "      <td>...</td>\n",
       "      <td>861</td>\n",
       "      <td>876</td>\n",
       "      <td>45.0</td>\n",
       "      <td>2.0</td>\n",
       "      <td>17.0</td>\n",
       "      <td>11.0</td>\n",
       "      <td>0.105</td>\n",
       "      <td>2019</td>\n",
       "      <td>0.1188118811881188</td>\n",
       "      <td>0.203390</td>\n",
       "    </tr>\n",
       "    <tr>\n",
       "      <td>2</td>\n",
       "      <td>2</td>\n",
       "      <td>2</td>\n",
       "      <td>Vitaly Abramov</td>\n",
       "      <td>20.0</td>\n",
       "      <td>OTT</td>\n",
       "      <td>RW</td>\n",
       "      <td>1</td>\n",
       "      <td>0</td>\n",
       "      <td>0</td>\n",
       "      <td>0</td>\n",
       "      <td>...</td>\n",
       "      <td>14</td>\n",
       "      <td>832</td>\n",
       "      <td>0.0</td>\n",
       "      <td>0.0</td>\n",
       "      <td>0.0</td>\n",
       "      <td>1.0</td>\n",
       "      <td>NaN</td>\n",
       "      <td>2019</td>\n",
       "      <td>NaN</td>\n",
       "      <td>0.000000</td>\n",
       "    </tr>\n",
       "    <tr>\n",
       "      <td>3</td>\n",
       "      <td>3</td>\n",
       "      <td>3</td>\n",
       "      <td>Noel Acciari</td>\n",
       "      <td>27.0</td>\n",
       "      <td>BOS</td>\n",
       "      <td>C</td>\n",
       "      <td>72</td>\n",
       "      <td>6</td>\n",
       "      <td>8</td>\n",
       "      <td>14</td>\n",
       "      <td>...</td>\n",
       "      <td>935</td>\n",
       "      <td>779</td>\n",
       "      <td>221.0</td>\n",
       "      <td>200.0</td>\n",
       "      <td>203.0</td>\n",
       "      <td>36.0</td>\n",
       "      <td>0.496</td>\n",
       "      <td>2019</td>\n",
       "      <td>0.06060606060606061</td>\n",
       "      <td>0.083333</td>\n",
       "    </tr>\n",
       "    <tr>\n",
       "      <td>4</td>\n",
       "      <td>4</td>\n",
       "      <td>4</td>\n",
       "      <td>Kenny Agostino</td>\n",
       "      <td>26.0</td>\n",
       "      <td>NJD</td>\n",
       "      <td>LW</td>\n",
       "      <td>63</td>\n",
       "      <td>6</td>\n",
       "      <td>18</td>\n",
       "      <td>24</td>\n",
       "      <td>...</td>\n",
       "      <td>814</td>\n",
       "      <td>775</td>\n",
       "      <td>143.0</td>\n",
       "      <td>15.0</td>\n",
       "      <td>27.0</td>\n",
       "      <td>14.0</td>\n",
       "      <td>0.357</td>\n",
       "      <td>2019</td>\n",
       "      <td>0.0759493670886076</td>\n",
       "      <td>0.095238</td>\n",
       "    </tr>\n",
       "  </tbody>\n",
       "</table>\n",
       "<p>5 rows × 30 columns</p>\n",
       "</div>"
      ],
      "text/plain": [
       "   index  Unnamed: 0               name   age team pos  gp goals assists  \\\n",
       "0      0           0  Justin Abdelkader  31.0  DET  LW  71     6      13   \n",
       "1      1           1       Pontus Aberg  25.0  MIN  LW  59    12      13   \n",
       "2      2           2     Vitaly Abramov  20.0  OTT  RW   1     0       0   \n",
       "3      3           3       Noel Acciari  27.0  BOS   C  72     6       8   \n",
       "4      4           4     Kenny Agostino  26.0  NJD  LW  63     6      18   \n",
       "\n",
       "  points  ...   toi toi_avg   hits faceoff_wins faceoff_losses block  \\\n",
       "0     19  ...  1093     924  185.0         52.0           51.0  34.0   \n",
       "1     25  ...   861     876   45.0          2.0           17.0  11.0   \n",
       "2      0  ...    14     832    0.0          0.0            0.0   1.0   \n",
       "3     14  ...   935     779  221.0        200.0          203.0  36.0   \n",
       "4     24  ...   814     775  143.0         15.0           27.0  14.0   \n",
       "\n",
       "  faceoff_pct season             shot_pct       gpg  \n",
       "0       0.505   2019  0.06315789473684211  0.084507  \n",
       "1       0.105   2019   0.1188118811881188  0.203390  \n",
       "2         NaN   2019                  NaN  0.000000  \n",
       "3       0.496   2019  0.06060606060606061  0.083333  \n",
       "4       0.357   2019   0.0759493670886076  0.095238  \n",
       "\n",
       "[5 rows x 30 columns]"
      ]
     },
     "execution_count": 13,
     "metadata": {},
     "output_type": "execute_result"
    }
   ],
   "source": [
    "skater.head()"
   ]
  },
  {
   "cell_type": "code",
   "execution_count": 14,
   "metadata": {},
   "outputs": [],
   "source": [
    "skater.drop(['index','Unnamed: 0'],axis=1,inplace=True)"
   ]
  },
  {
   "cell_type": "code",
   "execution_count": 16,
   "metadata": {},
   "outputs": [
    {
     "data": {
      "text/plain": [
       "RangeIndex(start=0, stop=30729, step=1)"
      ]
     },
     "execution_count": 16,
     "metadata": {},
     "output_type": "execute_result"
    }
   ],
   "source": [
    "skater.index"
   ]
  }
 ],
 "metadata": {
  "kernelspec": {
   "display_name": "Python 3",
   "language": "python",
   "name": "python3"
  },
  "language_info": {
   "codemirror_mode": {
    "name": "ipython",
    "version": 3
   },
   "file_extension": ".py",
   "mimetype": "text/x-python",
   "name": "python",
   "nbconvert_exporter": "python",
   "pygments_lexer": "ipython3",
   "version": "3.7.4"
  }
 },
 "nbformat": 4,
 "nbformat_minor": 4
}
